{
 "cells": [
  {
   "cell_type": "markdown",
   "id": "140e18bc",
   "metadata": {},
   "source": [
    "N1"
   ]
  },
  {
   "cell_type": "code",
   "execution_count": null,
   "id": "f2adc900",
   "metadata": {},
   "outputs": [],
   "source": [
    "dv"
   ]
  }
 ],
 "metadata": {
  "language_info": {
   "name": "python"
  }
 },
 "nbformat": 4,
 "nbformat_minor": 5
}
